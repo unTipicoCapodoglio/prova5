{
 "cells": [
  {
   "cell_type": "code",
   "execution_count": 1,
   "id": "satellite-indicator",
   "metadata": {},
   "outputs": [],
   "source": [
    "import numpy as np \n",
    "import matplotlib.pyplot as plt\n",
    "import lin_Fit as lf\n",
    "import pandas as pd\n",
    "from lib3 import quad"
   ]
  },
  {
   "cell_type": "markdown",
   "id": "hollywood-given",
   "metadata": {},
   "source": [
    "# Verifica linearità posizione"
   ]
  },
  {
   "cell_type": "code",
   "execution_count": 133,
   "id": "executed-recognition",
   "metadata": {},
   "outputs": [
    {
     "data": {
      "text/plain": [
       "[<matplotlib.lines.Line2D at 0x7f3468954ca0>]"
      ]
     },
     "execution_count": 133,
     "metadata": {},
     "output_type": "execute_result"
    },
    {
     "data": {
      "image/png": "[encoded data removed]",
      "text/plain": [
       "<Figure size 432x288 with 1 Axes>"
      ]
     },
     "metadata": {
      "needs_background": "light"
     },
     "output_type": "display_data"
    }
   ],
   "source": [
    "df=pd.read_csv('data/cal.txt',sep = '\\t', skiprows=(0))\n",
    "df=df[2:6010]\n",
    "df = df.reset_index()\n",
    "pos = df['Position (m)']\n",
    "plt.plot(abs(pos))\n"
   ]
  },
  {
   "cell_type": "code",
   "execution_count": 126,
   "id": "psychological-renewal",
   "metadata": {},
   "outputs": [
    {
     "data": {
      "text/html": [
       "<div>\n",
       "<style scoped>\n",
       "    .dataframe tbody tr th:only-of-type {\n",
       "        vertical-align: middle;\n",
       "    }\n",
       "\n",
       "    .dataframe tbody tr th {\n",
       "        vertical-align: top;\n",
       "    }\n",
       "\n",
       "    .dataframe thead th {\n",
       "        text-align: right;\n",
       "    }\n",
       "</style>\n",
       "<table border=\"1\" class=\"dataframe\">\n",
       "  <thead>\n",
       "    <tr style=\"text-align: right;\">\n",
       "      <th></th>\n",
       "      <th>index</th>\n",
       "      <th>Date and Time</th>\n",
       "      <th>Time (s)</th>\n",
       "      <th>Angle (rad)</th>\n",
       "      <th>Angular Velocity (rad/s)</th>\n",
       "      <th>Angular Acceleration (rad/s²)</th>\n",
       "      <th>Position (m)</th>\n",
       "      <th>Velocity (m/s)</th>\n",
       "      <th>Acceleration (m/s²)</th>\n",
       "    </tr>\n",
       "  </thead>\n",
       "  <tbody>\n",
       "    <tr>\n",
       "      <th>0</th>\n",
       "      <td>2</td>\n",
       "      <td>05/23/2022 12:01:52 pm</td>\n",
       "      <td>0.06</td>\n",
       "      <td>0.000000</td>\n",
       "      <td>0.0</td>\n",
       "      <td>0.0</td>\n",
       "      <td>0.000000</td>\n",
       "      <td>0.0</td>\n",
       "      <td>0.0</td>\n",
       "    </tr>\n",
       "    <tr>\n",
       "      <th>1</th>\n",
       "      <td>3</td>\n",
       "      <td>05/23/2022 12:01:52 pm</td>\n",
       "      <td>0.08</td>\n",
       "      <td>0.000000</td>\n",
       "      <td>0.0</td>\n",
       "      <td>0.0</td>\n",
       "      <td>0.000000</td>\n",
       "      <td>0.0</td>\n",
       "      <td>0.0</td>\n",
       "    </tr>\n",
       "    <tr>\n",
       "      <th>2</th>\n",
       "      <td>4</td>\n",
       "      <td>05/23/2022 12:01:52 pm</td>\n",
       "      <td>0.10</td>\n",
       "      <td>0.000000</td>\n",
       "      <td>0.0</td>\n",
       "      <td>0.0</td>\n",
       "      <td>0.000000</td>\n",
       "      <td>0.0</td>\n",
       "      <td>0.0</td>\n",
       "    </tr>\n",
       "    <tr>\n",
       "      <th>3</th>\n",
       "      <td>5</td>\n",
       "      <td>05/23/2022 12:01:52 pm</td>\n",
       "      <td>0.12</td>\n",
       "      <td>0.000000</td>\n",
       "      <td>0.0</td>\n",
       "      <td>0.0</td>\n",
       "      <td>0.000000</td>\n",
       "      <td>0.0</td>\n",
       "      <td>0.0</td>\n",
       "    </tr>\n",
       "    <tr>\n",
       "      <th>4</th>\n",
       "      <td>6</td>\n",
       "      <td>05/23/2022 12:01:52 pm</td>\n",
       "      <td>0.14</td>\n",
       "      <td>0.000000</td>\n",
       "      <td>0.0</td>\n",
       "      <td>0.0</td>\n",
       "      <td>0.000000</td>\n",
       "      <td>0.0</td>\n",
       "      <td>0.0</td>\n",
       "    </tr>\n",
       "    <tr>\n",
       "      <th>...</th>\n",
       "      <td>...</td>\n",
       "      <td>...</td>\n",
       "      <td>...</td>\n",
       "      <td>...</td>\n",
       "      <td>...</td>\n",
       "      <td>...</td>\n",
       "      <td>...</td>\n",
       "      <td>...</td>\n",
       "      <td>...</td>\n",
       "    </tr>\n",
       "    <tr>\n",
       "      <th>6003</th>\n",
       "      <td>6005</td>\n",
       "      <td>05/23/2022 12:03:52 pm</td>\n",
       "      <td>120.12</td>\n",
       "      <td>-8.157151</td>\n",
       "      <td>0.0</td>\n",
       "      <td>0.0</td>\n",
       "      <td>-0.194738</td>\n",
       "      <td>0.0</td>\n",
       "      <td>0.0</td>\n",
       "    </tr>\n",
       "    <tr>\n",
       "      <th>6004</th>\n",
       "      <td>6006</td>\n",
       "      <td>05/23/2022 12:03:52 pm</td>\n",
       "      <td>120.14</td>\n",
       "      <td>-8.157151</td>\n",
       "      <td>0.0</td>\n",
       "      <td>0.0</td>\n",
       "      <td>-0.194738</td>\n",
       "      <td>0.0</td>\n",
       "      <td>0.0</td>\n",
       "    </tr>\n",
       "    <tr>\n",
       "      <th>6005</th>\n",
       "      <td>6007</td>\n",
       "      <td>05/23/2022 12:03:52 pm</td>\n",
       "      <td>120.16</td>\n",
       "      <td>-8.157151</td>\n",
       "      <td>0.0</td>\n",
       "      <td>0.0</td>\n",
       "      <td>-0.194738</td>\n",
       "      <td>0.0</td>\n",
       "      <td>0.0</td>\n",
       "    </tr>\n",
       "    <tr>\n",
       "      <th>6006</th>\n",
       "      <td>6008</td>\n",
       "      <td>05/23/2022 12:03:52 pm</td>\n",
       "      <td>120.18</td>\n",
       "      <td>-8.157151</td>\n",
       "      <td>0.0</td>\n",
       "      <td>0.0</td>\n",
       "      <td>-0.194738</td>\n",
       "      <td>0.0</td>\n",
       "      <td>0.0</td>\n",
       "    </tr>\n",
       "    <tr>\n",
       "      <th>6007</th>\n",
       "      <td>6009</td>\n",
       "      <td>05/23/2022 12:03:52 pm</td>\n",
       "      <td>120.20</td>\n",
       "      <td>-8.157151</td>\n",
       "      <td>0.0</td>\n",
       "      <td>0.0</td>\n",
       "      <td>-0.194738</td>\n",
       "      <td>0.0</td>\n",
       "      <td>0.0</td>\n",
       "    </tr>\n",
       "  </tbody>\n",
       "</table>\n",
       "<p>6008 rows × 9 columns</p>\n",
       "</div>"
      ],
      "text/plain": [
       "      index           Date and Time  Time (s)  Angle (rad)  \\\n",
       "0         2  05/23/2022 12:01:52 pm      0.06     0.000000   \n",
       "1         3  05/23/2022 12:01:52 pm      0.08     0.000000   \n",
       "2         4  05/23/2022 12:01:52 pm      0.10     0.000000   \n",
       "3         5  05/23/2022 12:01:52 pm      0.12     0.000000   \n",
       "4         6  05/23/2022 12:01:52 pm      0.14     0.000000   \n",
       "...     ...                     ...       ...          ...   \n",
       "6003   6005  05/23/2022 12:03:52 pm    120.12    -8.157151   \n",
       "6004   6006  05/23/2022 12:03:52 pm    120.14    -8.157151   \n",
       "6005   6007  05/23/2022 12:03:52 pm    120.16    -8.157151   \n",
       "6006   6008  05/23/2022 12:03:52 pm    120.18    -8.157151   \n",
       "6007   6009  05/23/2022 12:03:52 pm    120.20    -8.157151   \n",
       "\n",
       "      Angular Velocity (rad/s)  Angular Acceleration (rad/s²)  Position (m)  \\\n",
       "0                          0.0                            0.0      0.000000   \n",
       "1                          0.0                            0.0      0.000000   \n",
       "2                          0.0                            0.0      0.000000   \n",
       "3                          0.0                            0.0      0.000000   \n",
       "4                          0.0                            0.0      0.000000   \n",
       "...                        ...                            ...           ...   \n",
       "6003                       0.0                            0.0     -0.194738   \n",
       "6004                       0.0                            0.0     -0.194738   \n",
       "6005                       0.0                            0.0     -0.194738   \n",
       "6006                       0.0                            0.0     -0.194738   \n",
       "6007                       0.0                            0.0     -0.194738   \n",
       "\n",
       "      Velocity (m/s)  Acceleration (m/s²)  \n",
       "0                0.0                  0.0  \n",
       "1                0.0                  0.0  \n",
       "2                0.0                  0.0  \n",
       "3                0.0                  0.0  \n",
       "4                0.0                  0.0  \n",
       "...              ...                  ...  \n",
       "6003             0.0                  0.0  \n",
       "6004             0.0                  0.0  \n",
       "6005             0.0                  0.0  \n",
       "6006             0.0                  0.0  \n",
       "6007             0.0                  0.0  \n",
       "\n",
       "[6008 rows x 9 columns]"
      ]
     },
     "execution_count": 126,
     "metadata": {},
     "output_type": "execute_result"
    }
   ],
   "source": []
  },
  {
   "cell_type": "markdown",
   "id": "dirty-deadline",
   "metadata": {},
   "source": [
    "# Momento Volano e Momento attrito"
   ]
  },
  {
   "cell_type": "code",
   "execution_count": 155,
   "id": "identical-ceiling",
   "metadata": {},
   "outputs": [
    {
     "data": {
      "text/plain": [
       "[<matplotlib.lines.Line2D at 0x7f34687bd5e0>]"
      ]
     },
     "execution_count": 155,
     "metadata": {},
     "output_type": "execute_result"
    },
    {
     "data": {
      "image/png": "[encoded data removed]",
      "text/plain": [
       "<Figure size 432x288 with 1 Axes>"
      ]
     },
     "metadata": {
      "needs_background": "light"
     },
     "output_type": "display_data"
    }
   ],
   "source": [
    "df1 = pd.read_csv('data/completa0.txt', sep = '\\t', skiprows=(1))\n",
    "df1=df1[:5708]\n",
    "x = df1['Position (m)'].to_numpy()\n",
    "plt.plot(x)"
   ]
  },
  {
   "cell_type": "code",
   "execution_count": null,
   "id": "collected-basketball",
   "metadata": {},
   "outputs": [],
   "source": []
  }
 ],
 "metadata": {
  "kernelspec": {
   "display_name": "Python 3",
   "language": "python",
   "name": "python3"
  },
  "language_info": {
   "codemirror_mode": {
    "name": "ipython",
    "version": 3
   },
   "file_extension": ".py",
   "mimetype": "text/x-python",
   "name": "python",
   "nbconvert_exporter": "python",
   "pygments_lexer": "ipython3",
   "version": "3.9.2"
  }
 },
 "nbformat": 4,
 "nbformat_minor": 5
}
