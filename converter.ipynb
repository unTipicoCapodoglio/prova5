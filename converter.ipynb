{
 "cells": [
  {
   "cell_type": "code",
   "execution_count": 4,
   "id": "mysterious-philadelphia",
   "metadata": {},
   "outputs": [],
   "source": [
    "import numpy as np"
   ]
  },
  {
   "cell_type": "code",
   "execution_count": 6,
   "id": "nasty-ceiling",
   "metadata": {},
   "outputs": [],
   "source": [
    "for i in range (6):\n",
    "    name1 = 'raw_data/completa' + str(i)+'.txt'    \n",
    "    name2 = 'data/completa' + str(i) + '.txt'\n",
    "    reading_file = open(name1, \"r\")\n",
    "    new_file_content = \"\"\n",
    "    for line in reading_file:\n",
    "        stripped_line = line.strip()\n",
    "        new_line = stripped_line.replace(\",\", \".\") \n",
    "        new_file_content += new_line +\"\\n\"\n",
    "    reading_file.close()\n",
    "\n",
    "    writing_file = open(name2, \"w\")\n",
    "    writing_file.write(new_file_content)\n",
    "    writing_file.close()"
   ]
  },
  {
   "cell_type": "code",
   "execution_count": 7,
   "id": "empirical-murder",
   "metadata": {},
   "outputs": [],
   "source": [
    "name1 = 'raw_data/cal.txt'    \n",
    "name2 = 'data/cal.txt'\n",
    "reading_file = open(name1, \"r\")\n",
    "new_file_content = \"\"\n",
    "for line in reading_file:\n",
    "    stripped_line = line.strip()\n",
    "    new_line = stripped_line.replace(\",\", \".\") \n",
    "    new_file_content += new_line +\"\\n\"\n",
    "reading_file.close()\n",
    "\n",
    "writing_file = open(name2, \"w\")\n",
    "writing_file.write(new_file_content)\n",
    "writing_file.close()"
   ]
  },
  {
   "cell_type": "code",
   "execution_count": null,
   "id": "blocked-familiar",
   "metadata": {},
   "outputs": [],
   "source": []
  }
 ],
 "metadata": {
  "kernelspec": {
   "display_name": "Python 3",
   "language": "python",
   "name": "python3"
  },
  "language_info": {
   "codemirror_mode": {
    "name": "ipython",
    "version": 3
   },
   "file_extension": ".py",
   "mimetype": "text/x-python",
   "name": "python",
   "nbconvert_exporter": "python",
   "pygments_lexer": "ipython3",
   "version": "3.9.2"
  }
 },
 "nbformat": 4,
 "nbformat_minor": 5
}
